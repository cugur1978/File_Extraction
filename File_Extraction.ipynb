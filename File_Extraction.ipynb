{
 "cells": [
  {
   "cell_type": "code",
   "execution_count": null,
   "id": "089a435e-63e0-4023-a167-cbd941a984ea",
   "metadata": {
    "tags": []
   },
   "outputs": [],
   "source": [
    "import os\n",
    "import shutil\n",
    "\n",
    "# Specify the paths for the main folder and the target folder\n",
    "source_folder = \"Path to the main folder containing subdirectories\"  # >>>>>>ENTER: Main directory containing subfolders\n",
    "target_folder = os.path.join(source_folder, \"The folder name where files will be copied\")  # >>>>>>>ENTER: Target folder to store files\n",
    "\n",
    "# Create the target folder if it does not exist\n",
    "if not os.path.exists(target_folder):\n",
    "    os.makedirs(target_folder)\n",
    "\n",
    "# List all subfolders in the main directory\n",
    "folders = [f for f in os.listdir(source_folder) if os.path.isdir(os.path.join(source_folder, f))]\n",
    "\n",
    "# File extension to filter (modify as needed)\n",
    "file_extension = \".the_extension_you_want_to_copy\"  # >>>>>>>>>>>>ENTER: Example: \".gff\", \".txt\"\n",
    "\n",
    "# Copy all files with the specified extension from each subfolder to the target folder\n",
    "for folder in folders:\n",
    "    folder_path = os.path.join(source_folder, folder)\n",
    "    \n",
    "    # List files in the subfolder and filter by the specified extension\n",
    "    x_files = [f for f in os.listdir(folder_path) if f.endswith(file_extension)]\n",
    "    for x_file in x_files:\n",
    "        file_path = os.path.join(folder_path, x_file)  # Source file path\n",
    "        target_path = os.path.join(target_folder, x_file)  # Target file path\n",
    "        \n",
    "        # Copy the file\n",
    "        shutil.copy(file_path, target_path)\n",
    "        print(f\"{x_file} has been copied from {folder} to {target_folder}.\")\n"
   ]
  },
  {
   "cell_type": "code",
   "execution_count": null,
   "id": "52065245-b7c9-491a-a265-6a633f38863b",
   "metadata": {},
   "outputs": [],
   "source": []
  }
 ],
 "metadata": {
  "kernelspec": {
   "display_name": "Python 3 (ipykernel)",
   "language": "python",
   "name": "python3"
  },
  "language_info": {
   "codemirror_mode": {
    "name": "ipython",
    "version": 3
   },
   "file_extension": ".py",
   "mimetype": "text/x-python",
   "name": "python",
   "nbconvert_exporter": "python",
   "pygments_lexer": "ipython3",
   "version": "3.11.4"
  }
 },
 "nbformat": 4,
 "nbformat_minor": 5
}
